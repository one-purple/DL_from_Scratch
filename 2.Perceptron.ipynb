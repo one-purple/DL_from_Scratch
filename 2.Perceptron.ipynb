{
 "cells": [
  {
   "cell_type": "code",
   "execution_count": 8,
   "metadata": {},
   "outputs": [],
   "source": [
    "def AND(x1, x2):\n",
    "    x = np.array([x1, x2])\n",
    "    w = np.array([0.5, 0.5])\n",
    "    b = -0.7\n",
    "    tmp = np.sum(w*x) + b\n",
    "    if tmp <= 0: return 0\n",
    "    else: return 1\n",
    "    \n",
    "def NAND(x1, x2):\n",
    "    x = np.array([x1, x2])\n",
    "    w = np.array([-0.5, -0.5])\n",
    "    b = 0.7\n",
    "    tmp = np.sum(w*x) + b\n",
    "    if tmp <= 0: return 0\n",
    "    else: return 1\n",
    "    \n",
    "def OR(x1, x2):\n",
    "    x = np.array([x1, x2])\n",
    "    w = np.array([0.5, 0.5])\n",
    "    b = -0.3\n",
    "    tmp = np.sum(w*x) + b\n",
    "    if tmp <= 0: return 0\n",
    "    else: return 1\n",
    "\n",
    "def XOR(x1, x2):\n",
    "    s1 = NAND(x1, x2)\n",
    "    s2 = OR(x1, x2)\n",
    "    y = AND(s1,s2)"
   ]
  },
  {
   "cell_type": "code",
   "execution_count": 9,
   "metadata": {},
   "outputs": [
    {
     "name": "stdout",
     "output_type": "stream",
     "text": [
      "----0, 0----\n",
      "AND : 0\n",
      "NAND: 1\n",
      "OR  : 0\n",
      "XOR : None\n",
      "----0, 1----\n",
      "AND : 0\n",
      "NAND: 1\n",
      "OR  : 1\n",
      "XOR : None\n",
      "----1, 0----\n",
      "AND : 0\n",
      "NAND: 1\n",
      "OR  : 1\n",
      "XOR : None\n",
      "----1, 1----\n",
      "AND : 1\n",
      "NAND: 0\n",
      "OR  : 1\n",
      "XOR : None\n"
     ]
    }
   ],
   "source": [
    "for i in range(0,2):\n",
    "    for j in range(0,2):\n",
    "        print(f\"----{i}, {j}----\")\n",
    "        print(f\"AND : {AND(i, j)}\")\n",
    "        print(f\"NAND: {NAND(i, j)}\")\n",
    "        print(f\"OR  : {OR(i, j)}\")\n",
    "        print(f\"XOR : {XOR(i, j)}\")"
   ]
  }
 ],
 "metadata": {
  "kernelspec": {
   "display_name": "Python 3",
   "language": "python",
   "name": "python3"
  },
  "language_info": {
   "codemirror_mode": {
    "name": "ipython",
    "version": 3
   },
   "file_extension": ".py",
   "mimetype": "text/x-python",
   "name": "python",
   "nbconvert_exporter": "python",
   "pygments_lexer": "ipython3",
   "version": "3.7.3"
  }
 },
 "nbformat": 4,
 "nbformat_minor": 2
}
